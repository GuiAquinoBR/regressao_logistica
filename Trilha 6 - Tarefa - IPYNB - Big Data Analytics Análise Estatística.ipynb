{
  "nbformat": 4,
  "nbformat_minor": 0,
  "metadata": {
    "colab": {
      "provenance": []
    },
    "kernelspec": {
      "name": "ir",
      "display_name": "R"
    },
    "language_info": {
      "name": "R"
    }
  },
  "cells": [
    {
      "cell_type": "markdown",
      "source": [
        "# **Análise Estatística: Regressão Logística**\n",
        "\n",
        "O naufrágio do Titanic é um dos naufrágios mais infames da história.\n",
        "\n",
        "Em 15 de abril de 1912, durante sua viagem inaugural, o amplamente considerado “inafundável” RMS Titanic afundou após colidir com um iceberg. Infelizmente, não havia botes salva-vidas suficientes para todos a bordo, resultando na morte de 1.502 dos 2.224 passageiros e tripulantes.\n",
        "\n",
        "Embora houvesse algum elemento de sorte envolvido na sobrevivência, parece que alguns grupos de pessoas eram mais propensos a sobreviver do que outros.\n",
        "\n",
        "Neste desafio, pedimos que você construa um modelo de regressão logística que preveja a sobrevivência (1 se o passageiro sobreviveu ou 0 caso contrário), baseado em algumas características tais como classe de serviço, sexo, idade, etc. A base de dados de teste tem a mesma estrutura da base de treinamento, mas a variável Survived não contém nenhum valor (ou não está presente).\n",
        "\n",
        "Depois de construir seu modelo, você vai aplicá-lo a este conjunto de dados de teste e prever o valor da variável Survived.\n",
        "\n",
        "Como se pode ver, utilizaremos tanto variáveis categóricas como contínuas.\n",
        "\n",
        "Quando trabalhamos com uma base de dados real, precisamos levar em conta o fato de podermos ter dados faltantes ou corrompidos, e, portanto, precisamos preparar a base de dados para nossa análise."
      ],
      "metadata": {
        "id": "d4s-tdbRsDvR"
      }
    },
    {
      "cell_type": "markdown",
      "source": [
        "### **Bibliotecas utilizadas:**"
      ],
      "metadata": {
        "id": "CL0KHjmVsbBQ"
      }
    },
    {
      "cell_type": "code",
      "execution_count": 17,
      "metadata": {
        "id": "Xl9np_1uU0GJ",
        "colab": {
          "base_uri": "https://localhost:8080/"
        },
        "outputId": "b5ba692e-985b-45fa-ae8d-9a27cfd46bc5"
      },
      "outputs": [
        {
          "output_type": "stream",
          "name": "stderr",
          "text": [
            "Installing package into ‘/usr/local/lib/R/site-library’\n",
            "(as ‘lib’ is unspecified)\n",
            "\n"
          ]
        }
      ],
      "source": [
        "# install.packages('Hmisc')\n",
        "\n",
        "library(tidyverse)\n",
        "library(ggplot2)\n",
        "library(Hmisc)"
      ]
    },
    {
      "cell_type": "markdown",
      "source": [
        "### **Limpeza de dados:**"
      ],
      "metadata": {
        "id": "VUZKse1WsiPV"
      }
    },
    {
      "cell_type": "markdown",
      "source": [
        "**Extraindo os dados e separando as colunas necessárias para o nosso trabalho:**"
      ],
      "metadata": {
        "id": "7N2n8pEZs5kQ"
      }
    },
    {
      "cell_type": "code",
      "source": [
        "titanicTreino <- read.csv('titanic_dw_train.csv')\n",
        "\n",
        "titanic <- titanicTreino[, c('PassengerId', 'Survived', 'Pclass', 'Sex', \n",
        "                             'Age', 'SibSp', 'Parch', 'Fare', 'Embarked')]"
      ],
      "metadata": {
        "id": "Lcn2OIzv43OZ"
      },
      "execution_count": 18,
      "outputs": []
    },
    {
      "cell_type": "markdown",
      "source": [
        "**Para os valores NaN de outras colunas, suas linhas serão excluidas:**"
      ],
      "metadata": {
        "id": "mzYJS6rFs_Xb"
      }
    },
    {
      "cell_type": "code",
      "source": [
        "titanic <- na.omit(titanic)\n"
      ],
      "metadata": {
        "id": "XJVZLIDx5CPA"
      },
      "execution_count": 19,
      "outputs": []
    },
    {
      "cell_type": "markdown",
      "source": [
        "### **Dicionário dos dados:**"
      ],
      "metadata": {
        "id": "MPzuEv1qt-uG"
      }
    },
    {
      "cell_type": "code",
      "source": [
        "dic_dados <- data.frame(nome_da_variavel = c('PassengerId','Survived', 'Pclass', 'Sex',\n",
        "                                             'Age', 'SibSp' , 'Parch', 'Fare', 'Embarked'),\n",
        "                        descricao_variavel = c('ID do passageiro', 'Sobrevivência',\n",
        "                                               'Tipo de ticket', 'Sexo do passageiro',\n",
        "                                               'Idade do passageiro','Nº de irmãos/cônjuges a bordo',\n",
        "                                               'Nº de pais/filhos a bordo', 'Tarifa de passageiro',\n",
        "                                               'Porto de embarcação'),\n",
        "                        tipo_variavel = c('Numérica', 'Categórica', 'Numérica', 'Categórica', \n",
        "                                          'Numérica', 'Numérica', 'Numérica', 'Numérica',\n",
        "                                          'Categórica'),\n",
        "                        tipo_mensuracao_variavel = c('Nominal', 'Ordinal', 'Ordinal', 'Nominal', \n",
        "                                                     'Razão', 'Razão', 'Razão', 'Razão', \n",
        "                                                     'Ordinal'),\n",
        "                        valores_possiveis = c('Valores de 2 à 1304', '0 = Não, 1 = Sim',\n",
        "                                              '1 = 1º classe, 2 = 2º classe, 3 = 3º classe',\n",
        "                                              'Male (masculino), female (feminino)',\n",
        "                                              'Números inteiros positivos', 'Valores de 0 à 8',\n",
        "                                              'Valores de 0 à 9', 'Números reais positivos',\n",
        "                                              'C = Cherbourg, Q = Queenstown, S = Southampton'))\n",
        "View(dic_dados)"
      ],
      "metadata": {
        "id": "a0GLSGsm5oM_",
        "colab": {
          "base_uri": "https://localhost:8080/",
          "height": 380
        },
        "outputId": "f60ba41c-2e17-4b29-9631-3d4b0fa15fb4"
      },
      "execution_count": 20,
      "outputs": [
        {
          "output_type": "display_data",
          "data": {
            "text/plain": [
              "  nome_da_variavel descricao_variavel            tipo_variavel\n",
              "1 PassengerId      ID do passageiro              Numérica     \n",
              "2 Survived         Sobrevivência                 Categórica   \n",
              "3 Pclass           Tipo de ticket                Numérica     \n",
              "4 Sex              Sexo do passageiro            Categórica   \n",
              "5 Age              Idade do passageiro           Numérica     \n",
              "6 SibSp            Nº de irmãos/cônjuges a bordo Numérica     \n",
              "7 Parch            Nº de pais/filhos a bordo     Numérica     \n",
              "8 Fare             Tarifa de passageiro          Numérica     \n",
              "9 Embarked         Porto de embarcação           Categórica   \n",
              "  tipo_mensuracao_variavel valores_possiveis                             \n",
              "1 Nominal                  Valores de 2 à 1304                           \n",
              "2 Ordinal                  0 = Não, 1 = Sim                              \n",
              "3 Ordinal                  1 = 1º classe, 2 = 2º classe, 3 = 3º classe   \n",
              "4 Nominal                  Male (masculino), female (feminino)           \n",
              "5 Razão                    Números inteiros positivos                    \n",
              "6 Razão                    Valores de 0 à 8                              \n",
              "7 Razão                    Valores de 0 à 9                              \n",
              "8 Razão                    Números reais positivos                       \n",
              "9 Ordinal                  C = Cherbourg, Q = Queenstown, S = Southampton"
            ],
            "text/html": [
              "<table class=\"dataframe\">\n",
              "<caption>A data.frame: 9 × 5</caption>\n",
              "<thead>\n",
              "\t<tr><th scope=col>nome_da_variavel</th><th scope=col>descricao_variavel</th><th scope=col>tipo_variavel</th><th scope=col>tipo_mensuracao_variavel</th><th scope=col>valores_possiveis</th></tr>\n",
              "\t<tr><th scope=col>&lt;chr&gt;</th><th scope=col>&lt;chr&gt;</th><th scope=col>&lt;chr&gt;</th><th scope=col>&lt;chr&gt;</th><th scope=col>&lt;chr&gt;</th></tr>\n",
              "</thead>\n",
              "<tbody>\n",
              "\t<tr><td>PassengerId</td><td>ID do passageiro             </td><td>Numérica  </td><td>Nominal</td><td>Valores de 2 à 1304                           </td></tr>\n",
              "\t<tr><td>Survived   </td><td>Sobrevivência                </td><td>Categórica</td><td>Ordinal</td><td>0 = Não, 1 = Sim                              </td></tr>\n",
              "\t<tr><td>Pclass     </td><td>Tipo de ticket               </td><td>Numérica  </td><td>Ordinal</td><td>1 = 1º classe, 2 = 2º classe, 3 = 3º classe   </td></tr>\n",
              "\t<tr><td>Sex        </td><td>Sexo do passageiro           </td><td>Categórica</td><td>Nominal</td><td>Male (masculino), female (feminino)           </td></tr>\n",
              "\t<tr><td>Age        </td><td>Idade do passageiro          </td><td>Numérica  </td><td>Razão  </td><td>Números inteiros positivos                    </td></tr>\n",
              "\t<tr><td>SibSp      </td><td>Nº de irmãos/cônjuges a bordo</td><td>Numérica  </td><td>Razão  </td><td>Valores de 0 à 8                              </td></tr>\n",
              "\t<tr><td>Parch      </td><td>Nº de pais/filhos a bordo    </td><td>Numérica  </td><td>Razão  </td><td>Valores de 0 à 9                              </td></tr>\n",
              "\t<tr><td>Fare       </td><td>Tarifa de passageiro         </td><td>Numérica  </td><td>Razão  </td><td>Números reais positivos                       </td></tr>\n",
              "\t<tr><td>Embarked   </td><td>Porto de embarcação          </td><td>Categórica</td><td>Ordinal</td><td>C = Cherbourg, Q = Queenstown, S = Southampton</td></tr>\n",
              "</tbody>\n",
              "</table>\n"
            ],
            "text/markdown": "\nA data.frame: 9 × 5\n\n| nome_da_variavel &lt;chr&gt; | descricao_variavel &lt;chr&gt; | tipo_variavel &lt;chr&gt; | tipo_mensuracao_variavel &lt;chr&gt; | valores_possiveis &lt;chr&gt; |\n|---|---|---|---|---|\n| PassengerId | ID do passageiro              | Numérica   | Nominal | Valores de 2 à 1304                            |\n| Survived    | Sobrevivência                 | Categórica | Ordinal | 0 = Não, 1 = Sim                               |\n| Pclass      | Tipo de ticket                | Numérica   | Ordinal | 1 = 1º classe, 2 = 2º classe, 3 = 3º classe    |\n| Sex         | Sexo do passageiro            | Categórica | Nominal | Male (masculino), female (feminino)            |\n| Age         | Idade do passageiro           | Numérica   | Razão   | Números inteiros positivos                     |\n| SibSp       | Nº de irmãos/cônjuges a bordo | Numérica   | Razão   | Valores de 0 à 8                               |\n| Parch       | Nº de pais/filhos a bordo     | Numérica   | Razão   | Valores de 0 à 9                               |\n| Fare        | Tarifa de passageiro          | Numérica   | Razão   | Números reais positivos                        |\n| Embarked    | Porto de embarcação           | Categórica | Ordinal | C = Cherbourg, Q = Queenstown, S = Southampton |\n\n",
            "text/latex": "A data.frame: 9 × 5\n\\begin{tabular}{lllll}\n nome\\_da\\_variavel & descricao\\_variavel & tipo\\_variavel & tipo\\_mensuracao\\_variavel & valores\\_possiveis\\\\\n <chr> & <chr> & <chr> & <chr> & <chr>\\\\\n\\hline\n\t PassengerId & ID do passageiro              & Numérica   & Nominal & Valores de 2 à 1304                           \\\\\n\t Survived    & Sobrevivência                 & Categórica & Ordinal & 0 = Não, 1 = Sim                              \\\\\n\t Pclass      & Tipo de ticket                & Numérica   & Ordinal & 1 = 1º classe, 2 = 2º classe, 3 = 3º classe   \\\\\n\t Sex         & Sexo do passageiro            & Categórica & Nominal & Male (masculino), female (feminino)           \\\\\n\t Age         & Idade do passageiro           & Numérica   & Razão   & Números inteiros positivos                    \\\\\n\t SibSp       & Nº de irmãos/cônjuges a bordo & Numérica   & Razão   & Valores de 0 à 8                              \\\\\n\t Parch       & Nº de pais/filhos a bordo     & Numérica   & Razão   & Valores de 0 à 9                              \\\\\n\t Fare        & Tarifa de passageiro          & Numérica   & Razão   & Números reais positivos                       \\\\\n\t Embarked    & Porto de embarcação           & Categórica & Ordinal & C = Cherbourg, Q = Queenstown, S = Southampton\\\\\n\\end{tabular}\n"
          },
          "metadata": {}
        }
      ]
    },
    {
      "cell_type": "markdown",
      "source": [
        "### **Análise Exploratória**"
      ],
      "metadata": {
        "id": "LgbvGpakuJbM"
      }
    },
    {
      "cell_type": "code",
      "source": [
        "str(titanic)"
      ],
      "metadata": {
        "colab": {
          "base_uri": "https://localhost:8080/"
        },
        "id": "Op0Oa1QruMF6",
        "outputId": "dddf5be4-8dd1-414e-a90c-bd6830932dfb"
      },
      "execution_count": 21,
      "outputs": [
        {
          "output_type": "stream",
          "name": "stdout",
          "text": [
            "'data.frame':\t717 obs. of  9 variables:\n",
            " $ PassengerId: int  2 3 4 6 10 11 12 13 15 17 ...\n",
            " $ Survived   : int  0 1 0 0 0 1 0 0 1 1 ...\n",
            " $ Pclass     : int  3 1 2 3 3 1 3 3 2 3 ...\n",
            " $ Sex        : chr  \"male\" \"female\" \"male\" \"male\" ...\n",
            " $ Age        : num  29 37 36 30 21 53 20 26 62 24 ...\n",
            " $ SibSp      : int  0 1 0 0 1 1 0 0 0 0 ...\n",
            " $ Parch      : int  0 0 0 0 0 1 0 0 0 0 ...\n",
            " $ Fare       : num  7.85 90 13 8.05 6.5 ...\n",
            " $ Embarked   : chr  \"S\" \"Q\" \"S\" \"S\" ...\n",
            " - attr(*, \"na.action\")= 'omit' Named int [1:174] 4 14 24 25 27 38 39 43 47 52 ...\n",
            "  ..- attr(*, \"names\")= chr [1:174] \"4\" \"14\" \"24\" \"25\" ...\n"
          ]
        }
      ]
    },
    {
      "cell_type": "code",
      "source": [
        "head(titanic, 10)"
      ],
      "metadata": {
        "colab": {
          "base_uri": "https://localhost:8080/",
          "height": 412
        },
        "id": "N0preeoduOhT",
        "outputId": "b53739c7-8c66-48d0-b9ca-6be8c63849c2"
      },
      "execution_count": 22,
      "outputs": [
        {
          "output_type": "display_data",
          "data": {
            "text/html": [
              "<table class=\"dataframe\">\n",
              "<caption>A data.frame: 10 × 9</caption>\n",
              "<thead>\n",
              "\t<tr><th></th><th scope=col>PassengerId</th><th scope=col>Survived</th><th scope=col>Pclass</th><th scope=col>Sex</th><th scope=col>Age</th><th scope=col>SibSp</th><th scope=col>Parch</th><th scope=col>Fare</th><th scope=col>Embarked</th></tr>\n",
              "\t<tr><th></th><th scope=col>&lt;int&gt;</th><th scope=col>&lt;int&gt;</th><th scope=col>&lt;int&gt;</th><th scope=col>&lt;chr&gt;</th><th scope=col>&lt;dbl&gt;</th><th scope=col>&lt;int&gt;</th><th scope=col>&lt;int&gt;</th><th scope=col>&lt;dbl&gt;</th><th scope=col>&lt;chr&gt;</th></tr>\n",
              "</thead>\n",
              "<tbody>\n",
              "\t<tr><th scope=row>1</th><td> 2</td><td>0</td><td>3</td><td>male  </td><td>29</td><td>0</td><td>0</td><td> 7.8542</td><td>S</td></tr>\n",
              "\t<tr><th scope=row>2</th><td> 3</td><td>1</td><td>1</td><td>female</td><td>37</td><td>1</td><td>0</td><td>90.0000</td><td>Q</td></tr>\n",
              "\t<tr><th scope=row>3</th><td> 4</td><td>0</td><td>2</td><td>male  </td><td>36</td><td>0</td><td>0</td><td>13.0000</td><td>S</td></tr>\n",
              "\t<tr><th scope=row>5</th><td> 6</td><td>0</td><td>3</td><td>male  </td><td>30</td><td>0</td><td>0</td><td> 8.0500</td><td>S</td></tr>\n",
              "\t<tr><th scope=row>6</th><td>10</td><td>0</td><td>3</td><td>male  </td><td>21</td><td>1</td><td>0</td><td> 6.4958</td><td>S</td></tr>\n",
              "\t<tr><th scope=row>7</th><td>11</td><td>1</td><td>1</td><td>male  </td><td>53</td><td>1</td><td>1</td><td>81.8583</td><td>S</td></tr>\n",
              "\t<tr><th scope=row>8</th><td>12</td><td>0</td><td>3</td><td>male  </td><td>20</td><td>0</td><td>0</td><td> 7.9250</td><td>S</td></tr>\n",
              "\t<tr><th scope=row>9</th><td>13</td><td>0</td><td>3</td><td>male  </td><td>26</td><td>0</td><td>0</td><td> 7.8958</td><td>S</td></tr>\n",
              "\t<tr><th scope=row>10</th><td>15</td><td>1</td><td>2</td><td>male  </td><td>62</td><td>0</td><td>0</td><td>10.5000</td><td>S</td></tr>\n",
              "\t<tr><th scope=row>11</th><td>17</td><td>1</td><td>3</td><td>male  </td><td>24</td><td>0</td><td>0</td><td> 7.5500</td><td>S</td></tr>\n",
              "</tbody>\n",
              "</table>\n"
            ],
            "text/markdown": "\nA data.frame: 10 × 9\n\n| <!--/--> | PassengerId &lt;int&gt; | Survived &lt;int&gt; | Pclass &lt;int&gt; | Sex &lt;chr&gt; | Age &lt;dbl&gt; | SibSp &lt;int&gt; | Parch &lt;int&gt; | Fare &lt;dbl&gt; | Embarked &lt;chr&gt; |\n|---|---|---|---|---|---|---|---|---|---|\n| 1 |  2 | 0 | 3 | male   | 29 | 0 | 0 |  7.8542 | S |\n| 2 |  3 | 1 | 1 | female | 37 | 1 | 0 | 90.0000 | Q |\n| 3 |  4 | 0 | 2 | male   | 36 | 0 | 0 | 13.0000 | S |\n| 5 |  6 | 0 | 3 | male   | 30 | 0 | 0 |  8.0500 | S |\n| 6 | 10 | 0 | 3 | male   | 21 | 1 | 0 |  6.4958 | S |\n| 7 | 11 | 1 | 1 | male   | 53 | 1 | 1 | 81.8583 | S |\n| 8 | 12 | 0 | 3 | male   | 20 | 0 | 0 |  7.9250 | S |\n| 9 | 13 | 0 | 3 | male   | 26 | 0 | 0 |  7.8958 | S |\n| 10 | 15 | 1 | 2 | male   | 62 | 0 | 0 | 10.5000 | S |\n| 11 | 17 | 1 | 3 | male   | 24 | 0 | 0 |  7.5500 | S |\n\n",
            "text/latex": "A data.frame: 10 × 9\n\\begin{tabular}{r|lllllllll}\n  & PassengerId & Survived & Pclass & Sex & Age & SibSp & Parch & Fare & Embarked\\\\\n  & <int> & <int> & <int> & <chr> & <dbl> & <int> & <int> & <dbl> & <chr>\\\\\n\\hline\n\t1 &  2 & 0 & 3 & male   & 29 & 0 & 0 &  7.8542 & S\\\\\n\t2 &  3 & 1 & 1 & female & 37 & 1 & 0 & 90.0000 & Q\\\\\n\t3 &  4 & 0 & 2 & male   & 36 & 0 & 0 & 13.0000 & S\\\\\n\t5 &  6 & 0 & 3 & male   & 30 & 0 & 0 &  8.0500 & S\\\\\n\t6 & 10 & 0 & 3 & male   & 21 & 1 & 0 &  6.4958 & S\\\\\n\t7 & 11 & 1 & 1 & male   & 53 & 1 & 1 & 81.8583 & S\\\\\n\t8 & 12 & 0 & 3 & male   & 20 & 0 & 0 &  7.9250 & S\\\\\n\t9 & 13 & 0 & 3 & male   & 26 & 0 & 0 &  7.8958 & S\\\\\n\t10 & 15 & 1 & 2 & male   & 62 & 0 & 0 & 10.5000 & S\\\\\n\t11 & 17 & 1 & 3 & male   & 24 & 0 & 0 &  7.5500 & S\\\\\n\\end{tabular}\n",
            "text/plain": [
              "   PassengerId Survived Pclass Sex    Age SibSp Parch Fare    Embarked\n",
              "1   2          0        3      male   29  0     0      7.8542 S       \n",
              "2   3          1        1      female 37  1     0     90.0000 Q       \n",
              "3   4          0        2      male   36  0     0     13.0000 S       \n",
              "5   6          0        3      male   30  0     0      8.0500 S       \n",
              "6  10          0        3      male   21  1     0      6.4958 S       \n",
              "7  11          1        1      male   53  1     1     81.8583 S       \n",
              "8  12          0        3      male   20  0     0      7.9250 S       \n",
              "9  13          0        3      male   26  0     0      7.8958 S       \n",
              "10 15          1        2      male   62  0     0     10.5000 S       \n",
              "11 17          1        3      male   24  0     0      7.5500 S       "
            ]
          },
          "metadata": {}
        }
      ]
    },
    {
      "cell_type": "code",
      "source": [
        "tail(titanic, 10)"
      ],
      "metadata": {
        "colab": {
          "base_uri": "https://localhost:8080/",
          "height": 412
        },
        "id": "dPWepLBQuQCZ",
        "outputId": "1d4975aa-e25c-4acc-d9ad-710ba7e9396a"
      },
      "execution_count": 23,
      "outputs": [
        {
          "output_type": "display_data",
          "data": {
            "text/html": [
              "<table class=\"dataframe\">\n",
              "<caption>A data.frame: 10 × 9</caption>\n",
              "<thead>\n",
              "\t<tr><th></th><th scope=col>PassengerId</th><th scope=col>Survived</th><th scope=col>Pclass</th><th scope=col>Sex</th><th scope=col>Age</th><th scope=col>SibSp</th><th scope=col>Parch</th><th scope=col>Fare</th><th scope=col>Embarked</th></tr>\n",
              "\t<tr><th></th><th scope=col>&lt;int&gt;</th><th scope=col>&lt;int&gt;</th><th scope=col>&lt;int&gt;</th><th scope=col>&lt;chr&gt;</th><th scope=col>&lt;dbl&gt;</th><th scope=col>&lt;int&gt;</th><th scope=col>&lt;int&gt;</th><th scope=col>&lt;dbl&gt;</th><th scope=col>&lt;chr&gt;</th></tr>\n",
              "</thead>\n",
              "<tbody>\n",
              "\t<tr><th scope=row>880</th><td>1288</td><td>1</td><td>1</td><td>female</td><td>42</td><td>0</td><td>0</td><td>227.5250</td><td>C</td></tr>\n",
              "\t<tr><th scope=row>881</th><td>1289</td><td>0</td><td>2</td><td>male  </td><td>18</td><td>0</td><td>0</td><td> 11.5000</td><td>S</td></tr>\n",
              "\t<tr><th scope=row>882</th><td>1290</td><td>0</td><td>3</td><td>male  </td><td>20</td><td>0</td><td>0</td><td>  9.8458</td><td>S</td></tr>\n",
              "\t<tr><th scope=row>883</th><td>1293</td><td>0</td><td>1</td><td>male  </td><td>50</td><td>1</td><td>0</td><td>106.4250</td><td>C</td></tr>\n",
              "\t<tr><th scope=row>884</th><td>1294</td><td>0</td><td>3</td><td>female</td><td>18</td><td>0</td><td>1</td><td> 14.4542</td><td>C</td></tr>\n",
              "\t<tr><th scope=row>887</th><td>1297</td><td>1</td><td>1</td><td>male  </td><td>36</td><td>0</td><td>0</td><td> 26.3875</td><td>S</td></tr>\n",
              "\t<tr><th scope=row>888</th><td>1298</td><td>0</td><td>2</td><td>male  </td><td>22</td><td>2</td><td>0</td><td> 31.5000</td><td>S</td></tr>\n",
              "\t<tr><th scope=row>889</th><td>1299</td><td>1</td><td>2</td><td>female</td><td>24</td><td>0</td><td>0</td><td> 13.0000</td><td>S</td></tr>\n",
              "\t<tr><th scope=row>890</th><td>1303</td><td>0</td><td>3</td><td>male  </td><td>31</td><td>0</td><td>0</td><td>  7.7750</td><td>S</td></tr>\n",
              "\t<tr><th scope=row>891</th><td>1304</td><td>0</td><td>3</td><td>male  </td><td>21</td><td>0</td><td>0</td><td>  8.0500</td><td>S</td></tr>\n",
              "</tbody>\n",
              "</table>\n"
            ],
            "text/markdown": "\nA data.frame: 10 × 9\n\n| <!--/--> | PassengerId &lt;int&gt; | Survived &lt;int&gt; | Pclass &lt;int&gt; | Sex &lt;chr&gt; | Age &lt;dbl&gt; | SibSp &lt;int&gt; | Parch &lt;int&gt; | Fare &lt;dbl&gt; | Embarked &lt;chr&gt; |\n|---|---|---|---|---|---|---|---|---|---|\n| 880 | 1288 | 1 | 1 | female | 42 | 0 | 0 | 227.5250 | C |\n| 881 | 1289 | 0 | 2 | male   | 18 | 0 | 0 |  11.5000 | S |\n| 882 | 1290 | 0 | 3 | male   | 20 | 0 | 0 |   9.8458 | S |\n| 883 | 1293 | 0 | 1 | male   | 50 | 1 | 0 | 106.4250 | C |\n| 884 | 1294 | 0 | 3 | female | 18 | 0 | 1 |  14.4542 | C |\n| 887 | 1297 | 1 | 1 | male   | 36 | 0 | 0 |  26.3875 | S |\n| 888 | 1298 | 0 | 2 | male   | 22 | 2 | 0 |  31.5000 | S |\n| 889 | 1299 | 1 | 2 | female | 24 | 0 | 0 |  13.0000 | S |\n| 890 | 1303 | 0 | 3 | male   | 31 | 0 | 0 |   7.7750 | S |\n| 891 | 1304 | 0 | 3 | male   | 21 | 0 | 0 |   8.0500 | S |\n\n",
            "text/latex": "A data.frame: 10 × 9\n\\begin{tabular}{r|lllllllll}\n  & PassengerId & Survived & Pclass & Sex & Age & SibSp & Parch & Fare & Embarked\\\\\n  & <int> & <int> & <int> & <chr> & <dbl> & <int> & <int> & <dbl> & <chr>\\\\\n\\hline\n\t880 & 1288 & 1 & 1 & female & 42 & 0 & 0 & 227.5250 & C\\\\\n\t881 & 1289 & 0 & 2 & male   & 18 & 0 & 0 &  11.5000 & S\\\\\n\t882 & 1290 & 0 & 3 & male   & 20 & 0 & 0 &   9.8458 & S\\\\\n\t883 & 1293 & 0 & 1 & male   & 50 & 1 & 0 & 106.4250 & C\\\\\n\t884 & 1294 & 0 & 3 & female & 18 & 0 & 1 &  14.4542 & C\\\\\n\t887 & 1297 & 1 & 1 & male   & 36 & 0 & 0 &  26.3875 & S\\\\\n\t888 & 1298 & 0 & 2 & male   & 22 & 2 & 0 &  31.5000 & S\\\\\n\t889 & 1299 & 1 & 2 & female & 24 & 0 & 0 &  13.0000 & S\\\\\n\t890 & 1303 & 0 & 3 & male   & 31 & 0 & 0 &   7.7750 & S\\\\\n\t891 & 1304 & 0 & 3 & male   & 21 & 0 & 0 &   8.0500 & S\\\\\n\\end{tabular}\n",
            "text/plain": [
              "    PassengerId Survived Pclass Sex    Age SibSp Parch Fare     Embarked\n",
              "880 1288        1        1      female 42  0     0     227.5250 C       \n",
              "881 1289        0        2      male   18  0     0      11.5000 S       \n",
              "882 1290        0        3      male   20  0     0       9.8458 S       \n",
              "883 1293        0        1      male   50  1     0     106.4250 C       \n",
              "884 1294        0        3      female 18  0     1      14.4542 C       \n",
              "887 1297        1        1      male   36  0     0      26.3875 S       \n",
              "888 1298        0        2      male   22  2     0      31.5000 S       \n",
              "889 1299        1        2      female 24  0     0      13.0000 S       \n",
              "890 1303        0        3      male   31  0     0       7.7750 S       \n",
              "891 1304        0        3      male   21  0     0       8.0500 S       "
            ]
          },
          "metadata": {}
        }
      ]
    },
    {
      "cell_type": "code",
      "source": [
        "dim(titanic)"
      ],
      "metadata": {
        "colab": {
          "base_uri": "https://localhost:8080/",
          "height": 34
        },
        "id": "hKHBQM1ouRfE",
        "outputId": "10ac4290-0aeb-4f5d-80fa-fb8c4d12f543"
      },
      "execution_count": 24,
      "outputs": [
        {
          "output_type": "display_data",
          "data": {
            "text/html": [
              "<style>\n",
              ".list-inline {list-style: none; margin:0; padding: 0}\n",
              ".list-inline>li {display: inline-block}\n",
              ".list-inline>li:not(:last-child)::after {content: \"\\00b7\"; padding: 0 .5ex}\n",
              "</style>\n",
              "<ol class=list-inline><li>717</li><li>9</li></ol>\n"
            ],
            "text/markdown": "1. 717\n2. 9\n\n\n",
            "text/latex": "\\begin{enumerate*}\n\\item 717\n\\item 9\n\\end{enumerate*}\n",
            "text/plain": [
              "[1] 717   9"
            ]
          },
          "metadata": {}
        }
      ]
    },
    {
      "cell_type": "code",
      "source": [
        "summary(titanic)"
      ],
      "metadata": {
        "colab": {
          "base_uri": "https://localhost:8080/",
          "height": 382
        },
        "id": "duTWmhHouTP9",
        "outputId": "f316dc30-708b-4401-b2e9-96653965afc6"
      },
      "execution_count": 26,
      "outputs": [
        {
          "output_type": "display_data",
          "data": {
            "text/plain": [
              "  PassengerId        Survived          Pclass          Sex           \n",
              " Min.   :   2.0   Min.   :0.0000   Min.   :1.000   Length:717        \n",
              " 1st Qu.: 335.0   1st Qu.:0.0000   1st Qu.:1.000   Class :character  \n",
              " Median : 672.0   Median :0.0000   Median :2.000   Mode  :character  \n",
              " Mean   : 658.1   Mean   :0.4031   Mean   :2.202                     \n",
              " 3rd Qu.: 980.0   3rd Qu.:1.0000   3rd Qu.:3.000                     \n",
              " Max.   :1304.0   Max.   :1.0000   Max.   :3.000                     \n",
              "      Age              SibSp           Parch            Fare       \n",
              " Min.   : 0.1667   Min.   :0.000   Min.   :0.000   Min.   :  0.00  \n",
              " 1st Qu.:21.0000   1st Qu.:0.000   1st Qu.:0.000   1st Qu.:  8.05  \n",
              " Median :28.0000   Median :0.000   Median :0.000   Median : 16.00  \n",
              " Mean   :29.9064   Mean   :0.523   Mean   :0.463   Mean   : 36.90  \n",
              " 3rd Qu.:39.0000   3rd Qu.:1.000   3rd Qu.:1.000   3rd Qu.: 34.38  \n",
              " Max.   :80.0000   Max.   :8.000   Max.   :6.000   Max.   :512.33  \n",
              "   Embarked        \n",
              " Length:717        \n",
              " Class :character  \n",
              " Mode  :character  \n",
              "                   \n",
              "                   \n",
              "                   "
            ]
          },
          "metadata": {}
        }
      ]
    },
    {
      "cell_type": "code",
      "source": [
        "sapply(titanic[, c('Survived', 'Pclass', 'Sex', 'SibSp', 'Parch', 'Embarked')], table)"
      ],
      "metadata": {
        "colab": {
          "base_uri": "https://localhost:8080/",
          "height": 520
        },
        "id": "6Zf6H88Sv2jL",
        "outputId": "a17a6ff5-8306-43eb-fd9b-f89a88435f2d"
      },
      "execution_count": 27,
      "outputs": [
        {
          "output_type": "display_data",
          "data": {
            "text/plain": [
              "$Survived\n",
              "\n",
              "  0   1 \n",
              "428 289 \n",
              "\n",
              "$Pclass\n",
              "\n",
              "  1   2   3 \n",
              "194 184 339 \n",
              "\n",
              "$Sex\n",
              "\n",
              "female   male \n",
              "   262    455 \n",
              "\n",
              "$SibSp\n",
              "\n",
              "  0   1   2   3   4   5   8 \n",
              "461 199  25  10  17   4   1 \n",
              "\n",
              "$Parch\n",
              "\n",
              "  0   1   2   3   4   5   6 \n",
              "518 107  73   7   4   6   2 \n",
              "\n",
              "$Embarked\n",
              "\n",
              "  C   Q   S \n",
              "148  33 536 \n"
            ]
          },
          "metadata": {}
        }
      ]
    },
    {
      "cell_type": "code",
      "source": [
        "describe(titanic)"
      ],
      "metadata": {
        "colab": {
          "base_uri": "https://localhost:8080/",
          "height": 1000
        },
        "id": "VQJQ4BRkwAOa",
        "outputId": "f67bfc29-7172-4e81-c239-209b7bb0af25"
      },
      "execution_count": 28,
      "outputs": [
        {
          "output_type": "display_data",
          "data": {
            "text/plain": [
              "titanic \n",
              "\n",
              " 9  Variables      717  Observations\n",
              "--------------------------------------------------------------------------------\n",
              "PassengerId \n",
              "       n  missing distinct     Info     Mean      Gmd      .05      .10 \n",
              "     717        0      717        1    658.1    435.4     66.6    130.6 \n",
              "     .25      .50      .75      .90      .95 \n",
              "   335.0    672.0    980.0   1170.4   1241.2 \n",
              "\n",
              "lowest :    2    3    4    6   10, highest: 1297 1298 1299 1303 1304\n",
              "--------------------------------------------------------------------------------\n",
              "Survived \n",
              "       n  missing distinct     Info      Sum     Mean      Gmd \n",
              "     717        0        2    0.722      289   0.4031   0.4819 \n",
              "\n",
              "--------------------------------------------------------------------------------\n",
              "Pclass \n",
              "       n  missing distinct     Info     Mean      Gmd \n",
              "     717        0        3    0.858    2.202   0.8945 \n",
              "                            \n",
              "Value          1     2     3\n",
              "Frequency    194   184   339\n",
              "Proportion 0.271 0.257 0.473\n",
              "--------------------------------------------------------------------------------\n",
              "Sex \n",
              "       n  missing distinct \n",
              "     717        0        2 \n",
              "                        \n",
              "Value      female   male\n",
              "Frequency     262    455\n",
              "Proportion  0.365  0.635\n",
              "--------------------------------------------------------------------------------\n",
              "Age \n",
              "       n  missing distinct     Info     Mean      Gmd      .05      .10 \n",
              "     717        0       93    0.999    29.91    16.45      4.0     14.0 \n",
              "     .25      .50      .75      .90      .95 \n",
              "    21.0     28.0     39.0     50.0     56.2 \n",
              "\n",
              "lowest :  0.1667  0.3333  0.4167  0.6667  0.7500\n",
              "highest: 70.5000 71.0000 74.0000 76.0000 80.0000\n",
              "--------------------------------------------------------------------------------\n",
              "SibSp \n",
              "       n  missing distinct     Info     Mean      Gmd \n",
              "     717        0        7    0.713    0.523   0.7735 \n",
              "\n",
              "lowest : 0 1 2 3 4, highest: 2 3 4 5 8\n",
              "                                                    \n",
              "Value          0     1     2     3     4     5     8\n",
              "Frequency    461   199    25    10    17     4     1\n",
              "Proportion 0.643 0.278 0.035 0.014 0.024 0.006 0.001\n",
              "--------------------------------------------------------------------------------\n",
              "Parch \n",
              "       n  missing distinct     Info     Mean      Gmd \n",
              "     717        0        7    0.619    0.463   0.7379 \n",
              "\n",
              "lowest : 0 1 2 3 4, highest: 2 3 4 5 6\n",
              "                                                    \n",
              "Value          0     1     2     3     4     5     6\n",
              "Frequency    518   107    73     7     4     6     2\n",
              "Proportion 0.722 0.149 0.102 0.010 0.006 0.008 0.003\n",
              "--------------------------------------------------------------------------------\n",
              "Fare \n",
              "       n  missing distinct     Info     Mean      Gmd      .05      .10 \n",
              "     717        0      227        1     36.9    42.88    7.229    7.750 \n",
              "     .25      .50      .75      .90      .95 \n",
              "   8.050   16.000   34.375   81.858  135.633 \n",
              "\n",
              "lowest :   0.0000   4.0125   5.0000   6.4375   6.4500\n",
              "highest: 227.5250 247.5208 262.3750 263.0000 512.3292\n",
              "--------------------------------------------------------------------------------\n",
              "Embarked \n",
              "       n  missing distinct \n",
              "     717        0        3 \n",
              "                            \n",
              "Value          C     Q     S\n",
              "Frequency    148    33   536\n",
              "Proportion 0.206 0.046 0.748\n",
              "--------------------------------------------------------------------------------"
            ]
          },
          "metadata": {}
        }
      ]
    },
    {
      "cell_type": "code",
      "source": [
        "ggplot(titanic) +\n",
        "  geom_bar(aes(Survived, fill = Sex)) +\n",
        "  scale_x_continuous(breaks = seq(0,1,1)) +\n",
        "  labs(title = 'Figura 1: Número de sobreviventes e não sobreviventes.', subtitle = '0 = Não - 1 = Sim', x = NULL, y = NULL, caption = 'Fonte: Elaborado pelo autor.')"
      ],
      "metadata": {
        "colab": {
          "base_uri": "https://localhost:8080/",
          "height": 437
        },
        "id": "bG-gw9wNwFVd",
        "outputId": "dc8d87cd-2d81-4704-c796-143873a2f161"
      },
      "execution_count": 29,
      "outputs": [
        {
          "output_type": "display_data",
          "data": {
            "text/plain": [
              "plot without title"
            ],
            "image/png": "[encoded data removed]"
          },
          "metadata": {
            "image/png": {
              "width": 420,
              "height": 420
            }
          }
        }
      ]
    },
    {
      "cell_type": "markdown",
      "source": [
        "*O gráfico da figura 1, apresenta um grande número de vítimas fatais, chegando a quase 300 pessoas. Entre as vítimas fatais, em sua grande maioria sendo do sexo masculino.*"
      ],
      "metadata": {
        "id": "F2TUyEWdwJ55"
      }
    },
    {
      "cell_type": "code",
      "source": [
        "ggplot(titanic) +\n",
        "  geom_bar(aes(Survived, fill = Embarked)) +\n",
        "  scale_x_continuous(breaks = seq(0,1,1)) +\n",
        "  labs(title = 'Figura 2: Número de sobreviventes e não sobreviventes.', subtitle = '0 = Não, 1 = Sim', x = NULL, y = NULL, col = 'Embarque', caption = 'Fonte: Elaborado pelo autor.')"
      ],
      "metadata": {
        "colab": {
          "base_uri": "https://localhost:8080/",
          "height": 437
        },
        "id": "bvmnsiL3wNVK",
        "outputId": "60d56633-a2a1-4f35-8ca0-b54f538db7d9"
      },
      "execution_count": 30,
      "outputs": [
        {
          "output_type": "display_data",
          "data": {
            "text/plain": [
              "plot without title"
            ],
            "image/png": "[encoded data removed]"
          },
          "metadata": {
            "image/png": {
              "width": 420,
              "height": 420
            }
          }
        }
      ]
    },
    {
      "cell_type": "markdown",
      "source": [
        "*Mais da metade dos passageiros eram provenientes de Southampton, sendo o maior números de vítimas, segundo a figura 2.*"
      ],
      "metadata": {
        "id": "vZBCnbXBwdqh"
      }
    },
    {
      "cell_type": "code",
      "source": [
        "ggplot(titanic) +\n",
        "  geom_bar(aes(Pclass, fill = Sex)) +\n",
        "  labs(title = 'Figura 3: Frequência dos Tipos de Tickets.', x = 'Tickets', y = NULL, caption = 'Fonte: Elaborado pelo autor.')"
      ],
      "metadata": {
        "colab": {
          "base_uri": "https://localhost:8080/",
          "height": 437
        },
        "id": "F1rHdwA7wgA8",
        "outputId": "42dd036f-0e4e-485e-e226-7832f99f957c"
      },
      "execution_count": 31,
      "outputs": [
        {
          "output_type": "display_data",
          "data": {
            "text/plain": [
              "plot without title"
            ],
            "image/png": "[encoded data removed]"
          },
          "metadata": {
            "image/png": {
              "width": 420,
              "height": 420
            }
          }
        }
      ]
    },
    {
      "cell_type": "markdown",
      "source": [
        "Dos passageiros presentes no Titanic, quase 400 pessoas possuiam tickets da 3º classe e quase 200 pessoas pertenciam à 1º classe."
      ],
      "metadata": {
        "id": "IYrpcQn4wp47"
      }
    },
    {
      "cell_type": "code",
      "source": [
        "ggplot(titanic) +\n",
        "  geom_histogram(aes(Age), bins = 50, color = 'black') +\n",
        "  labs(title = 'Figura 4: Frequência de Idade dos Passageiros', x = 'Idade', y = NULL, caption = 'Fonte: Elaborado pelo autor.')"
      ],
      "metadata": {
        "colab": {
          "base_uri": "https://localhost:8080/",
          "height": 437
        },
        "id": "i0zaxBxOwr6j",
        "outputId": "09b3ea16-3391-4876-c80a-e5c43b9afb58"
      },
      "execution_count": 32,
      "outputs": [
        {
          "output_type": "display_data",
          "data": {
            "text/plain": [
              "plot without title"
            ],
            "image/png": "[encoded data removed]"
          },
          "metadata": {
            "image/png": {
              "width": 420,
              "height": 420
            }
          }
        }
      ]
    },
    {
      "cell_type": "markdown",
      "source": [
        "*Vemos que a faixa etária mais frequente encontra-se entre 20 e 40 anos.*"
      ],
      "metadata": {
        "id": "AhXWh39OxFcl"
      }
    },
    {
      "cell_type": "markdown",
      "source": [
        "### **Ajustando um modelo de regressão logística**"
      ],
      "metadata": {
        "id": "WMo5dkyLxvlE"
      }
    },
    {
      "cell_type": "markdown",
      "source": [
        "**Modelo sem nenhuma variável preditora:**"
      ],
      "metadata": {
        "id": "YngFHDBhxx1L"
      }
    },
    {
      "cell_type": "code",
      "source": [
        "modelo1 <- glm(Survived ~ 1, data = titanic, family = binomial())\n",
        "summary(modelo1)"
      ],
      "metadata": {
        "colab": {
          "base_uri": "https://localhost:8080/",
          "height": 382
        },
        "id": "oOWrtcPux0SH",
        "outputId": "d3bb4df5-bef3-46c8-8391-d59d5bc770d7"
      },
      "execution_count": 35,
      "outputs": [
        {
          "output_type": "display_data",
          "data": {
            "text/plain": [
              "\n",
              "Call:\n",
              "glm(formula = Survived ~ 1, family = binomial(), data = titanic)\n",
              "\n",
              "Deviance Residuals: \n",
              "   Min      1Q  Median      3Q     Max  \n",
              "-1.016  -1.016  -1.016   1.348   1.348  \n",
              "\n",
              "Coefficients:\n",
              "            Estimate Std. Error z value Pr(>|z|)    \n",
              "(Intercept) -0.39270    0.07614  -5.158  2.5e-07 ***\n",
              "---\n",
              "Signif. codes:  0 ‘***’ 0.001 ‘**’ 0.01 ‘*’ 0.05 ‘.’ 0.1 ‘ ’ 1\n",
              "\n",
              "(Dispersion parameter for binomial family taken to be 1)\n",
              "\n",
              "    Null deviance: 966.85  on 716  degrees of freedom\n",
              "Residual deviance: 966.85  on 716  degrees of freedom\n",
              "AIC: 968.85\n",
              "\n",
              "Number of Fisher Scoring iterations: 4\n"
            ]
          },
          "metadata": {}
        }
      ]
    },
    {
      "cell_type": "markdown",
      "source": [
        "**Cálculos manuais:**"
      ],
      "metadata": {
        "id": "gI_sgHdWx6Sa"
      }
    },
    {
      "cell_type": "code",
      "source": [
        "p <- as.numeric(addmargins(table(titanic$Survived))[2] / addmargins(table(titanic$Survived))[3])\n",
        "print(p)\n",
        "\n",
        "# As chances\n",
        "chance <- p / (1 - p)\n",
        "print(as.numeric(chance))\n",
        "\n",
        "log(as.numeric(chance))"
      ],
      "metadata": {
        "colab": {
          "base_uri": "https://localhost:8080/",
          "height": 69
        },
        "id": "OiPb3PfOx7Js",
        "outputId": "12ef18ba-aace-4e9d-cb13-b0136544ec05"
      },
      "execution_count": 36,
      "outputs": [
        {
          "output_type": "stream",
          "name": "stdout",
          "text": [
            "[1] 0.4030683\n",
            "[1] 0.6752336\n"
          ]
        },
        {
          "output_type": "display_data",
          "data": {
            "text/html": [
              "-0.392696507469365"
            ],
            "text/markdown": "-0.392696507469365",
            "text/latex": "-0.392696507469365",
            "text/plain": [
              "[1] -0.3926965"
            ]
          },
          "metadata": {}
        }
      ]
    },
    {
      "cell_type": "markdown",
      "source": [
        "*Ao analisar o nosso primeiro modelo, constatamos que a probabilidade de sobrevivência ao evento é de aproximadamente 40%. As chances são de 67%, e o intercepto do modelo sem variáveis preditoras é a estimativa do logaritmo das chances de sobrevivência, que é igual a -0.392696.*"
      ],
      "metadata": {
        "id": "MdWHlpuIyFrX"
      }
    },
    {
      "cell_type": "markdown",
      "source": [
        "**Modelo com uma variável preditora binária:**"
      ],
      "metadata": {
        "id": "q4UiBBYZzD3Z"
      }
    },
    {
      "cell_type": "code",
      "source": [
        "modelo2 <- glm(Survived ~ Sex, data = titanic, family = binomial())\n",
        "summary(modelo2)"
      ],
      "metadata": {
        "colab": {
          "base_uri": "https://localhost:8080/",
          "height": 399
        },
        "id": "Eh7A26igzGyR",
        "outputId": "27be62dc-dc64-4229-ddbf-589e778be61d"
      },
      "execution_count": 37,
      "outputs": [
        {
          "output_type": "display_data",
          "data": {
            "text/plain": [
              "\n",
              "Call:\n",
              "glm(formula = Survived ~ Sex, family = binomial(), data = titanic)\n",
              "\n",
              "Deviance Residuals: \n",
              "    Min       1Q   Median       3Q      Max  \n",
              "-1.6605  -0.6762  -0.6762   0.7619   1.7820  \n",
              "\n",
              "Coefficients:\n",
              "            Estimate Std. Error z value Pr(>|z|)    \n",
              "(Intercept)   1.0885     0.1423   7.648 2.04e-14 ***\n",
              "Sexmale      -2.4475     0.1838 -13.319  < 2e-16 ***\n",
              "---\n",
              "Signif. codes:  0 ‘***’ 0.001 ‘**’ 0.01 ‘*’ 0.05 ‘.’ 0.1 ‘ ’ 1\n",
              "\n",
              "(Dispersion parameter for binomial family taken to be 1)\n",
              "\n",
              "    Null deviance: 966.85  on 716  degrees of freedom\n",
              "Residual deviance: 756.61  on 715  degrees of freedom\n",
              "AIC: 760.61\n",
              "\n",
              "Number of Fisher Scoring iterations: 4\n"
            ]
          },
          "metadata": {}
        }
      ]
    },
    {
      "cell_type": "markdown",
      "source": [
        "**Cálculos manuais:**"
      ],
      "metadata": {
        "id": "GPJIEEsPzMOY"
      }
    },
    {
      "cell_type": "code",
      "source": [
        "addmargins(table(titanic$Survived, titanic$Sex))"
      ],
      "metadata": {
        "colab": {
          "base_uri": "https://localhost:8080/",
          "height": 161
        },
        "id": "SCbhyz0xzNAc",
        "outputId": "a067ff11-550f-4aee-f505-6e3a3b260545"
      },
      "execution_count": 38,
      "outputs": [
        {
          "output_type": "display_data",
          "data": {
            "text/html": [
              "<table class=\"dataframe\">\n",
              "<caption>A table: 3 × 3 of type dbl</caption>\n",
              "<thead>\n",
              "\t<tr><th></th><th scope=col>female</th><th scope=col>male</th><th scope=col>Sum</th></tr>\n",
              "</thead>\n",
              "<tbody>\n",
              "\t<tr><th scope=row>0</th><td> 66</td><td>362</td><td>428</td></tr>\n",
              "\t<tr><th scope=row>1</th><td>196</td><td> 93</td><td>289</td></tr>\n",
              "\t<tr><th scope=row>Sum</th><td>262</td><td>455</td><td>717</td></tr>\n",
              "</tbody>\n",
              "</table>\n"
            ],
            "text/markdown": "\nA table: 3 × 3 of type dbl\n\n| <!--/--> | female | male | Sum |\n|---|---|---|---|\n| 0 |  66 | 362 | 428 |\n| 1 | 196 |  93 | 289 |\n| Sum | 262 | 455 | 717 |\n\n",
            "text/latex": "A table: 3 × 3 of type dbl\n\\begin{tabular}{r|lll}\n  & female & male & Sum\\\\\n\\hline\n\t0 &  66 & 362 & 428\\\\\n\t1 & 196 &  93 & 289\\\\\n\tSum & 262 & 455 & 717\\\\\n\\end{tabular}\n",
            "text/plain": [
              "     \n",
              "      female male Sum\n",
              "  0    66    362  428\n",
              "  1   196     93  289\n",
              "  Sum 262    455  717"
            ]
          },
          "metadata": {}
        }
      ]
    },
    {
      "cell_type": "code",
      "source": [
        "# Chances para mulheres\n",
        "chanceFem <- (196 / 262) / (66 / 262)\n",
        "print(chanceFem)\n",
        "\n",
        "# Chances para homens\n",
        "chanceMas <- (93 / 455) / (362 / 455)\n",
        "print(chanceMas)\n",
        "\n",
        "# Chances do homem e as chances da mulher:\n",
        "chanceMasFem <- (93 / 362) / (196 / 66)\n",
        "print(chanceMasFem)\n",
        "\n",
        "# Intercept\n",
        "log(chanceFem)\n",
        "\n",
        "# Coeficiente para homens\n",
        "log(chanceMasFem)"
      ],
      "metadata": {
        "colab": {
          "base_uri": "https://localhost:8080/",
          "height": 104
        },
        "id": "ofcnIDdozYMa",
        "outputId": "19a80469-d42c-45fe-bd42-34cb4bf9b79c"
      },
      "execution_count": 39,
      "outputs": [
        {
          "output_type": "stream",
          "name": "stdout",
          "text": [
            "[1] 2.969697\n",
            "[1] 0.2569061\n",
            "[1] 0.08650919\n"
          ]
        },
        {
          "output_type": "display_data",
          "data": {
            "text/html": [
              "1.08845991720409"
            ],
            "text/markdown": "1.08845991720409",
            "text/latex": "1.08845991720409",
            "text/plain": [
              "[1] 1.08846"
            ]
          },
          "metadata": {}
        },
        {
          "output_type": "display_data",
          "data": {
            "text/html": [
              "-2.44750463587661"
            ],
            "text/markdown": "-2.44750463587661",
            "text/latex": "-2.44750463587661",
            "text/plain": [
              "[1] -2.447505"
            ]
          },
          "metadata": {}
        }
      ]
    },
    {
      "cell_type": "markdown",
      "source": [
        "*Ao analisar o modelo e confirmar através dos cálculos manuais, chegamos às seguintes conclusões:*\n",
        "\n",
        "* *As chances de sobrevivência para uma mulher são de 2.969697.*\n",
        "\n",
        "* *Já as chances de sobrevivência para um homem são de 0.2569061.*\n",
        "\n",
        "* *A razão entre as chances do homem e as chances da mulher é de 0.08650919.*\n",
        "\n",
        "* *O intercepto do modelo é o log das chances para mulheres, que é de 1.0884599.*\n",
        "\n",
        "* *O coeficiente para homens é o log da razão das chances entre o grupo de mulheres e o grupo de homens, que é de -2.4475046.*"
      ],
      "metadata": {
        "id": "0H4WXM3n0Aiz"
      }
    },
    {
      "cell_type": "markdown",
      "source": [
        "**Modelo com uma variável preditora contínua:**"
      ],
      "metadata": {
        "id": "zwkbtKAv14_P"
      }
    },
    {
      "cell_type": "code",
      "source": [
        "modelo3 <- glm(Survived ~ Fare, data = titanic, family = binomial())\n",
        "summary(modelo3)"
      ],
      "metadata": {
        "colab": {
          "base_uri": "https://localhost:8080/",
          "height": 399
        },
        "id": "-FAqW1BP12mN",
        "outputId": "8dd02cc1-6346-4a4c-e081-4ede224068d9"
      },
      "execution_count": 40,
      "outputs": [
        {
          "output_type": "display_data",
          "data": {
            "text/plain": [
              "\n",
              "Call:\n",
              "glm(formula = Survived ~ Fare, family = binomial(), data = titanic)\n",
              "\n",
              "Deviance Residuals: \n",
              "    Min       1Q   Median       3Q      Max  \n",
              "-2.2449  -0.9189  -0.8882   1.3664   1.5408  \n",
              "\n",
              "Coefficients:\n",
              "             Estimate Std. Error z value Pr(>|z|)    \n",
              "(Intercept) -0.822924   0.102857  -8.001 1.24e-15 ***\n",
              "Fare         0.012391   0.002126   5.830 5.55e-09 ***\n",
              "---\n",
              "Signif. codes:  0 ‘***’ 0.001 ‘**’ 0.01 ‘*’ 0.05 ‘.’ 0.1 ‘ ’ 1\n",
              "\n",
              "(Dispersion parameter for binomial family taken to be 1)\n",
              "\n",
              "    Null deviance: 966.85  on 716  degrees of freedom\n",
              "Residual deviance: 914.80  on 715  degrees of freedom\n",
              "AIC: 918.8\n",
              "\n",
              "Number of Fisher Scoring iterations: 4\n"
            ]
          },
          "metadata": {}
        }
      ]
    },
    {
      "cell_type": "markdown",
      "source": [
        "**Cálculos manuais:**"
      ],
      "metadata": {
        "id": "2kyk-NIZ19uQ"
      }
    },
    {
      "cell_type": "code",
      "source": [
        "# Calculando os parametros beta 0 e beta 1\n",
        "beta_0 <- as.numeric(coef(modelo3)[1])\n",
        "beta_1 <- as.numeric(coef(modelo3)[2])\n",
        "c(beta_0, beta_1)\n",
        "\n",
        "# Média da variável Fare\n",
        "mediaFare <- mean(titanic$Fare)\n",
        "mediaFare\n",
        "\n",
        "\n",
        "logit_p1 <- beta_0 + beta_1 * mediaFare\n",
        "logit_p2 <- beta_0 + beta_1 * (mediaFare +1)\n",
        "\n",
        "c(logit_p1, logit_p2)\n",
        "\n",
        "\n",
        "logit_p2 - logit_p1\n",
        "\n",
        "# Calculando a probabilidade e a chance\n",
        "p1 <- exp(logit_p1) / (1 + exp(logit_p1))\n",
        "p1_chance <- p1 / (1 - p1)\n",
        "\n",
        "c(p1, p1_chance)\n",
        "\n",
        "# Calculando a probabilidade e a chance\n",
        "p2 <- exp(logit_p2) / (1 + exp(logit_p2))\n",
        "p2_chance <- p2 / (1 - p2)\n",
        "\n",
        "c(p2, p2_chance)\n",
        "\n",
        "\n",
        "p2_chance / p1_chance"
      ],
      "metadata": {
        "colab": {
          "base_uri": "https://localhost:8080/",
          "height": 139
        },
        "id": "QKd4vpLb17Ur",
        "outputId": "95482a62-3365-48db-82f1-921d4c1cbee7"
      },
      "execution_count": 41,
      "outputs": [
        {
          "output_type": "display_data",
          "data": {
            "text/html": [
              "<style>\n",
              ".list-inline {list-style: none; margin:0; padding: 0}\n",
              ".list-inline>li {display: inline-block}\n",
              ".list-inline>li:not(:last-child)::after {content: \"\\00b7\"; padding: 0 .5ex}\n",
              "</style>\n",
              "<ol class=list-inline><li>-0.822923886742891</li><li>0.0123912686588952</li></ol>\n"
            ],
            "text/markdown": "1. -0.822923886742891\n2. 0.0123912686588952\n\n\n",
            "text/latex": "\\begin{enumerate*}\n\\item -0.822923886742891\n\\item 0.0123912686588952\n\\end{enumerate*}\n",
            "text/plain": [
              "[1] -0.82292389  0.01239127"
            ]
          },
          "metadata": {}
        },
        {
          "output_type": "display_data",
          "data": {
            "text/html": [
              "36.8999762900976"
            ],
            "text/markdown": "36.8999762900976",
            "text/latex": "36.8999762900976",
            "text/plain": [
              "[1] 36.89998"
            ]
          },
          "metadata": {}
        },
        {
          "output_type": "display_data",
          "data": {
            "text/html": [
              "<style>\n",
              ".list-inline {list-style: none; margin:0; padding: 0}\n",
              ".list-inline>li {display: inline-block}\n",
              ".list-inline>li:not(:last-child)::after {content: \"\\00b7\"; padding: 0 .5ex}\n",
              "</style>\n",
              "<ol class=list-inline><li>-0.365686367025429</li><li>-0.353295098366533</li></ol>\n"
            ],
            "text/markdown": "1. -0.365686367025429\n2. -0.353295098366533\n\n\n",
            "text/latex": "\\begin{enumerate*}\n\\item -0.365686367025429\n\\item -0.353295098366533\n\\end{enumerate*}\n",
            "text/plain": [
              "[1] -0.3656864 -0.3532951"
            ]
          },
          "metadata": {}
        },
        {
          "output_type": "display_data",
          "data": {
            "text/html": [
              "0.0123912686588952"
            ],
            "text/markdown": "0.0123912686588952",
            "text/latex": "0.0123912686588952",
            "text/plain": [
              "[1] 0.01239127"
            ]
          },
          "metadata": {}
        },
        {
          "output_type": "display_data",
          "data": {
            "text/html": [
              "<style>\n",
              ".list-inline {list-style: none; margin:0; padding: 0}\n",
              ".list-inline>li {display: inline-block}\n",
              ".list-inline>li:not(:last-child)::after {content: \"\\00b7\"; padding: 0 .5ex}\n",
              "</style>\n",
              "<ol class=list-inline><li>0.409583757135782</li><li>0.693720340668163</li></ol>\n"
            ],
            "text/markdown": "1. 0.409583757135782\n2. 0.693720340668163\n\n\n",
            "text/latex": "\\begin{enumerate*}\n\\item 0.409583757135782\n\\item 0.693720340668163\n\\end{enumerate*}\n",
            "text/plain": [
              "[1] 0.4095838 0.6937203"
            ]
          },
          "metadata": {}
        },
        {
          "output_type": "display_data",
          "data": {
            "text/html": [
              "<style>\n",
              ".list-inline {list-style: none; margin:0; padding: 0}\n",
              ".list-inline>li {display: inline-block}\n",
              ".list-inline>li:not(:last-child)::after {content: \"\\00b7\"; padding: 0 .5ex}\n",
              "</style>\n",
              "<ol class=list-inline><li>0.412583597030346</li><li>0.702369894583385</li></ol>\n"
            ],
            "text/markdown": "1. 0.412583597030346\n2. 0.702369894583385\n\n\n",
            "text/latex": "\\begin{enumerate*}\n\\item 0.412583597030346\n\\item 0.702369894583385\n\\end{enumerate*}\n",
            "text/plain": [
              "[1] 0.4125836 0.7023699"
            ]
          },
          "metadata": {}
        },
        {
          "output_type": "display_data",
          "data": {
            "text/html": [
              "1.01246835851301"
            ],
            "text/markdown": "1.01246835851301",
            "text/latex": "1.01246835851301",
            "text/plain": [
              "[1] 1.012468"
            ]
          },
          "metadata": {}
        }
      ]
    },
    {
      "cell_type": "markdown",
      "source": [
        "*No caso de uma variável preditora contínua, as probabilidades e as chances (odds) são dadas por:*\n",
        "\n",
        "*- p1: 0.40958, p1_chance: 0.69372.*\n",
        "\n",
        "*- p2: 0.41258, p2_chance: 0.70236.*\n",
        "\n",
        "*- A razão entre chances: 1.01246.*\n",
        "\n",
        "*O aumento esperado nas chances é: 0.70236.*"
      ],
      "metadata": {
        "id": "AXFKr1sI2K4m"
      }
    },
    {
      "cell_type": "markdown",
      "source": [
        "**Modelo com mais de uma variável preditora:**"
      ],
      "metadata": {
        "id": "Kg4tH7Qw3NGC"
      }
    },
    {
      "cell_type": "code",
      "source": [
        "modelo4 <- glm(Survived ~ Fare + Age + Parch, data = titanic, family = binomial())\n",
        "summary(modelo4)"
      ],
      "metadata": {
        "colab": {
          "base_uri": "https://localhost:8080/",
          "height": 451
        },
        "id": "iagvkNhJ3PZS",
        "outputId": "42366c61-05bb-478d-85eb-3a961013c8b1"
      },
      "execution_count": 42,
      "outputs": [
        {
          "output_type": "display_data",
          "data": {
            "text/plain": [
              "\n",
              "Call:\n",
              "glm(formula = Survived ~ Fare + Age + Parch, family = binomial(), \n",
              "    data = titanic)\n",
              "\n",
              "Deviance Residuals: \n",
              "    Min       1Q   Median       3Q      Max  \n",
              "-2.4384  -0.9317  -0.8385   1.2707   1.7608  \n",
              "\n",
              "Coefficients:\n",
              "             Estimate Std. Error z value Pr(>|z|)    \n",
              "(Intercept) -0.396888   0.190307  -2.086  0.03702 *  \n",
              "Fare         0.013284   0.002310   5.751 8.85e-09 ***\n",
              "Age         -0.016418   0.005699  -2.881  0.00396 ** \n",
              "Parch        0.067730   0.090537   0.748  0.45440    \n",
              "---\n",
              "Signif. codes:  0 ‘***’ 0.001 ‘**’ 0.01 ‘*’ 0.05 ‘.’ 0.1 ‘ ’ 1\n",
              "\n",
              "(Dispersion parameter for binomial family taken to be 1)\n",
              "\n",
              "    Null deviance: 966.85  on 716  degrees of freedom\n",
              "Residual deviance: 904.40  on 713  degrees of freedom\n",
              "AIC: 912.4\n",
              "\n",
              "Number of Fisher Scoring iterations: 4\n"
            ]
          },
          "metadata": {}
        }
      ]
    },
    {
      "cell_type": "markdown",
      "source": [
        "**Cálculos manuais:**"
      ],
      "metadata": {
        "id": "nHHtRpCW3SYI"
      }
    },
    {
      "cell_type": "code",
      "source": [
        "# Média das variáveis\n",
        "mediaFare <- mean(titanic$Fare)\n",
        "mediaAge <- mean(titanic$Age)\n",
        "mediaParch <- mean(titanic$Parch)\n",
        "\n",
        "\n",
        "print('Parâmetros beta 0, 1, 2 e 3: ')\n",
        "beta_0 <- as.numeric(coef(modelo4)[1])\n",
        "beta_1 <- as.numeric(coef(modelo4)[2])\n",
        "beta_2 <- as.numeric(coef(modelo4)[3])\n",
        "beta_3 <- as.numeric(coef(modelo4)[4])\n",
        "\n",
        "c(beta_0, beta_1, beta_2, beta_3)\n",
        "\n",
        "\n",
        "exp(c(beta_0, beta_1, beta_2, beta_3))\n",
        "\n",
        "\n",
        "print('Diferença entre os logit: ')\n",
        "logit_p1 <- beta_0 + beta_1 * mediaFare + beta_2 * mediaAge + beta_3 * mediaParch\n",
        "logit_p2 <- beta_0 + beta_1 * (mediaFare + 1) + beta_2 * mediaAge + beta_3 * mediaParch\n",
        "\n",
        "logit_p2 - logit_p1\n",
        "\n",
        "\n",
        "print('Probabilidades e chances: ')\n",
        "p1 <- exp(logit_p1) / (1 + exp(logit_p1))\n",
        "p1_chance <- p1 / (1 - p1)\n",
        "\n",
        "p2 <- exp(logit_p2) / (1 + exp(logit_p2))\n",
        "p2_chance <- p2 / (1 - p2)\n",
        "\n",
        "c(p1, p1_chance, p2, p2_chance)\n",
        "\n",
        "\n",
        "print('Diferença entre as chances: ')\n",
        "p2_chance - p1_chance"
      ],
      "metadata": {
        "colab": {
          "base_uri": "https://localhost:8080/",
          "height": 173
        },
        "id": "-1QLi3SJ3S4E",
        "outputId": "d9e3a22c-58bb-402a-a376-1066bf5df530"
      },
      "execution_count": 44,
      "outputs": [
        {
          "output_type": "stream",
          "name": "stdout",
          "text": [
            "[1] \"Parâmetros beta 0, 1, 2 e 3: \"\n"
          ]
        },
        {
          "output_type": "display_data",
          "data": {
            "text/html": [
              "<style>\n",
              ".list-inline {list-style: none; margin:0; padding: 0}\n",
              ".list-inline>li {display: inline-block}\n",
              ".list-inline>li:not(:last-child)::after {content: \"\\00b7\"; padding: 0 .5ex}\n",
              "</style>\n",
              "<ol class=list-inline><li>-0.396888485542883</li><li>0.0132844676137324</li><li>-0.0164179801098903</li><li>0.0677300536456191</li></ol>\n"
            ],
            "text/markdown": "1. -0.396888485542883\n2. 0.0132844676137324\n3. -0.0164179801098903\n4. 0.0677300536456191\n\n\n",
            "text/latex": "\\begin{enumerate*}\n\\item -0.396888485542883\n\\item 0.0132844676137324\n\\item -0.0164179801098903\n\\item 0.0677300536456191\n\\end{enumerate*}\n",
            "text/plain": [
              "[1] -0.39688849  0.01328447 -0.01641798  0.06773005"
            ]
          },
          "metadata": {}
        },
        {
          "output_type": "display_data",
          "data": {
            "text/html": [
              "<style>\n",
              ".list-inline {list-style: none; margin:0; padding: 0}\n",
              ".list-inline>li {display: inline-block}\n",
              ".list-inline>li:not(:last-child)::after {content: \"\\00b7\"; padding: 0 .5ex}\n",
              "</style>\n",
              "<ol class=list-inline><li>0.672409004777079</li><li>1.01337309818876</li><li>0.983716060365075</li><li>1.0700764062617</li></ol>\n"
            ],
            "text/markdown": "1. 0.672409004777079\n2. 1.01337309818876\n3. 0.983716060365075\n4. 1.0700764062617\n\n\n",
            "text/latex": "\\begin{enumerate*}\n\\item 0.672409004777079\n\\item 1.01337309818876\n\\item 0.983716060365075\n\\item 1.0700764062617\n\\end{enumerate*}\n",
            "text/plain": [
              "[1] 0.6724090 1.0133731 0.9837161 1.0700764"
            ]
          },
          "metadata": {}
        },
        {
          "output_type": "stream",
          "name": "stdout",
          "text": [
            "[1] \"Diferença entre os logit: \"\n"
          ]
        },
        {
          "output_type": "display_data",
          "data": {
            "text/html": [
              "0.0132844676137325"
            ],
            "text/markdown": "0.0132844676137325",
            "text/latex": "0.0132844676137325",
            "text/plain": [
              "[1] 0.01328447"
            ]
          },
          "metadata": {}
        },
        {
          "output_type": "stream",
          "name": "stdout",
          "text": [
            "[1] \"Probabilidades e chances: \"\n"
          ]
        },
        {
          "output_type": "display_data",
          "data": {
            "text/html": [
              "<style>\n",
              ".list-inline {list-style: none; margin:0; padding: 0}\n",
              ".list-inline>li {display: inline-block}\n",
              ".list-inline>li:not(:last-child)::after {content: \"\\00b7\"; padding: 0 .5ex}\n",
              "</style>\n",
              "<ol class=list-inline><li>0.409427270885182</li><li>0.693271549295637</li><li>0.412643231914033</li><li>0.702542737795841</li></ol>\n"
            ],
            "text/markdown": "1. 0.409427270885182\n2. 0.693271549295637\n3. 0.412643231914033\n4. 0.702542737795841\n\n\n",
            "text/latex": "\\begin{enumerate*}\n\\item 0.409427270885182\n\\item 0.693271549295637\n\\item 0.412643231914033\n\\item 0.702542737795841\n\\end{enumerate*}\n",
            "text/plain": [
              "[1] 0.4094273 0.6932715 0.4126432 0.7025427"
            ]
          },
          "metadata": {}
        },
        {
          "output_type": "stream",
          "name": "stdout",
          "text": [
            "[1] \"Diferença entre as chances: \"\n"
          ]
        },
        {
          "output_type": "display_data",
          "data": {
            "text/html": [
              "0.00927118850020425"
            ],
            "text/markdown": "0.00927118850020425",
            "text/latex": "0.00927118850020425",
            "text/plain": [
              "[1] 0.009271189"
            ]
          },
          "metadata": {}
        }
      ]
    },
    {
      "cell_type": "markdown",
      "source": [
        "**Comparando os modelos de Regressão Logística:**"
      ],
      "metadata": {
        "id": "iv23FLGq3oHG"
      }
    },
    {
      "cell_type": "code",
      "source": [
        "modeloFull <- glm(Survived ~ Pclass + Sex + Age + SibSp + Parch + Fare + Embarked, data = titanic, family = binomial())\n",
        "summary(modeloFull)"
      ],
      "metadata": {
        "colab": {
          "base_uri": "https://localhost:8080/",
          "height": 538
        },
        "id": "vUbCsQl_3zXS",
        "outputId": "dd6cb013-67c3-472b-b37f-f9af294b8e2d"
      },
      "execution_count": 45,
      "outputs": [
        {
          "output_type": "display_data",
          "data": {
            "text/plain": [
              "\n",
              "Call:\n",
              "glm(formula = Survived ~ Pclass + Sex + Age + SibSp + Parch + \n",
              "    Fare + Embarked, family = binomial(), data = titanic)\n",
              "\n",
              "Deviance Residuals: \n",
              "    Min       1Q   Median       3Q      Max  \n",
              "-2.5758  -0.6892  -0.4133   0.6492   2.5591  \n",
              "\n",
              "Coefficients:\n",
              "             Estimate Std. Error z value Pr(>|z|)    \n",
              "(Intercept)  5.020667   0.600461   8.361  < 2e-16 ***\n",
              "Pclass      -1.026129   0.160425  -6.396 1.59e-10 ***\n",
              "Sexmale     -2.657000   0.221198 -12.012  < 2e-16 ***\n",
              "Age         -0.032588   0.007660  -4.254 2.10e-05 ***\n",
              "SibSp       -0.266505   0.128245  -2.078  0.03770 *  \n",
              "Parch        0.010040   0.116302   0.086  0.93120    \n",
              "Fare         0.001483   0.002306   0.643  0.52012    \n",
              "EmbarkedQ   -1.587587   0.542507  -2.926  0.00343 ** \n",
              "EmbarkedS   -0.627413   0.253595  -2.474  0.01336 *  \n",
              "---\n",
              "Signif. codes:  0 ‘***’ 0.001 ‘**’ 0.01 ‘*’ 0.05 ‘.’ 0.1 ‘ ’ 1\n",
              "\n",
              "(Dispersion parameter for binomial family taken to be 1)\n",
              "\n",
              "    Null deviance: 966.85  on 716  degrees of freedom\n",
              "Residual deviance: 651.33  on 708  degrees of freedom\n",
              "AIC: 669.33\n",
              "\n",
              "Number of Fisher Scoring iterations: 5\n"
            ]
          },
          "metadata": {}
        }
      ]
    },
    {
      "cell_type": "markdown",
      "source": [
        "Ao analisar os p-values, observamos que o número de pais/filhos a bordo (Parch) e a tarifa de passageiro (Fare) podem não contribuir para o modelo. Portanto, será necessário reduzi-lo, mantendo apenas as variáveis estatisticamente significativas, a fim de realizar uma comparação adequada."
      ],
      "metadata": {
        "id": "OkhScrUZ35df"
      }
    },
    {
      "cell_type": "code",
      "source": [
        "modeloReduzido <- glm(Survived ~ Pclass + Sex + Age + SibSp + Embarked, data = titanic, family = binomial())\n",
        "summary(modeloReduzido)"
      ],
      "metadata": {
        "colab": {
          "base_uri": "https://localhost:8080/",
          "height": 503
        },
        "id": "5Utrg1P74MfB",
        "outputId": "f00a7be1-fe9e-4973-ba3c-b5d2816415c1"
      },
      "execution_count": 46,
      "outputs": [
        {
          "output_type": "display_data",
          "data": {
            "text/plain": [
              "\n",
              "Call:\n",
              "glm(formula = Survived ~ Pclass + Sex + Age + SibSp + Embarked, \n",
              "    family = binomial(), data = titanic)\n",
              "\n",
              "Deviance Residuals: \n",
              "    Min       1Q   Median       3Q      Max  \n",
              "-2.5323  -0.6886  -0.4103   0.6428   2.5640  \n",
              "\n",
              "Coefficients:\n",
              "             Estimate Std. Error z value Pr(>|z|)    \n",
              "(Intercept)  5.213117   0.535469   9.736  < 2e-16 ***\n",
              "Pclass      -1.074946   0.141109  -7.618 2.58e-14 ***\n",
              "Sexmale     -2.670920   0.216266 -12.350  < 2e-16 ***\n",
              "Age         -0.032775   0.007649  -4.285 1.83e-05 ***\n",
              "SibSp       -0.245954   0.121167  -2.030  0.04237 *  \n",
              "EmbarkedQ   -1.615786   0.540857  -2.987  0.00281 ** \n",
              "EmbarkedS   -0.661816   0.248054  -2.668  0.00763 ** \n",
              "---\n",
              "Signif. codes:  0 ‘***’ 0.001 ‘**’ 0.01 ‘*’ 0.05 ‘.’ 0.1 ‘ ’ 1\n",
              "\n",
              "(Dispersion parameter for binomial family taken to be 1)\n",
              "\n",
              "    Null deviance: 966.85  on 716  degrees of freedom\n",
              "Residual deviance: 651.84  on 710  degrees of freedom\n",
              "AIC: 665.84\n",
              "\n",
              "Number of Fisher Scoring iterations: 5\n"
            ]
          },
          "metadata": {}
        }
      ]
    },
    {
      "cell_type": "code",
      "source": [
        "anova(modeloReduzido, modeloFull, test = 'Chisq')"
      ],
      "metadata": {
        "colab": {
          "base_uri": "https://localhost:8080/",
          "height": 161
        },
        "id": "PQnEHV7X4VI-",
        "outputId": "742d9077-6e4e-4736-e7c8-4a23fffbf808"
      },
      "execution_count": 47,
      "outputs": [
        {
          "output_type": "display_data",
          "data": {
            "text/html": [
              "<table class=\"dataframe\">\n",
              "<caption>A anova: 2 × 5</caption>\n",
              "<thead>\n",
              "\t<tr><th></th><th scope=col>Resid. Df</th><th scope=col>Resid. Dev</th><th scope=col>Df</th><th scope=col>Deviance</th><th scope=col>Pr(&gt;Chi)</th></tr>\n",
              "\t<tr><th></th><th scope=col>&lt;dbl&gt;</th><th scope=col>&lt;dbl&gt;</th><th scope=col>&lt;dbl&gt;</th><th scope=col>&lt;dbl&gt;</th><th scope=col>&lt;dbl&gt;</th></tr>\n",
              "</thead>\n",
              "<tbody>\n",
              "\t<tr><th scope=row>1</th><td>710</td><td>651.8382</td><td>NA</td><td>       NA</td><td>       NA</td></tr>\n",
              "\t<tr><th scope=row>2</th><td>708</td><td>651.3308</td><td> 2</td><td>0.5073187</td><td>0.7759561</td></tr>\n",
              "</tbody>\n",
              "</table>\n"
            ],
            "text/markdown": "\nA anova: 2 × 5\n\n| <!--/--> | Resid. Df &lt;dbl&gt; | Resid. Dev &lt;dbl&gt; | Df &lt;dbl&gt; | Deviance &lt;dbl&gt; | Pr(&gt;Chi) &lt;dbl&gt; |\n|---|---|---|---|---|---|\n| 1 | 710 | 651.8382 | NA |        NA |        NA |\n| 2 | 708 | 651.3308 |  2 | 0.5073187 | 0.7759561 |\n\n",
            "text/latex": "A anova: 2 × 5\n\\begin{tabular}{r|lllll}\n  & Resid. Df & Resid. Dev & Df & Deviance & Pr(>Chi)\\\\\n  & <dbl> & <dbl> & <dbl> & <dbl> & <dbl>\\\\\n\\hline\n\t1 & 710 & 651.8382 & NA &        NA &        NA\\\\\n\t2 & 708 & 651.3308 &  2 & 0.5073187 & 0.7759561\\\\\n\\end{tabular}\n",
            "text/plain": [
              "  Resid. Df Resid. Dev Df Deviance  Pr(>Chi) \n",
              "1 710       651.8382   NA        NA        NA\n",
              "2 708       651.3308    2 0.5073187 0.7759561"
            ]
          },
          "metadata": {}
        }
      ]
    },
    {
      "cell_type": "markdown",
      "source": [
        "*Com base no p-value de 0.7759561, podemos concluir que o modelo reduzido se ajusta tão bem quanto o modelo completo. Isso indica que as variáveis Parch e Fare não contribuem significativamente para a regressão, além das outras variáveis já presentes no modelo.*\n",
        "\n",
        "*Ao avaliar a qualidade dos modelos utilizando o Akaike Information Criterion (AIC), temos as seguintes informações:*\n",
        "\n",
        "* *Modelo completo (modeloFull): 669.33.*\n",
        "* *Modelo reduzido (modeloReduzido): 665.84.*\n",
        "* *Com base nos valores do AIC, podemos concluir que a redução no modelo não prejudicou o seu poder de predição.*"
      ],
      "metadata": {
        "id": "00UxudAH4caF"
      }
    },
    {
      "cell_type": "markdown",
      "source": [
        "### **Aplicando o modelo para previsão:**"
      ],
      "metadata": {
        "id": "Cx3YmAP75pgQ"
      }
    },
    {
      "cell_type": "markdown",
      "source": [
        "**Extraindo os dados e separando as colunas necessárias para o nosso trabalho:**"
      ],
      "metadata": {
        "id": "EB11m8R-8FEq"
      }
    },
    {
      "cell_type": "code",
      "source": [
        "titanicTeste <- read.csv('titanic_dw_test.csv')\n",
        "\n",
        "titanic <- titanicTreino[, c('PassengerId', 'Survived', 'Pclass', 'Sex', \n",
        "                             'Age', 'SibSp', 'Parch', 'Fare', 'Embarked')]"
      ],
      "metadata": {
        "id": "hXtWARaS8D8O"
      },
      "execution_count": 48,
      "outputs": []
    },
    {
      "cell_type": "markdown",
      "source": [
        "**Criando o modelo:**"
      ],
      "metadata": {
        "id": "hHkznmX08Pc3"
      }
    },
    {
      "cell_type": "code",
      "source": [
        "previsao <- predict(modeloReduzido, newdata = titanicTeste, type = 'response')\n",
        "\n",
        "previsao <- if_else(previsao >= 0.5, 1, 0)\n",
        "\n",
        "previsao <- factor(previsao, levels = c(0,1), labels = c('No', 'Yes'))\n",
        "\n",
        "table(previsao)"
      ],
      "metadata": {
        "colab": {
          "base_uri": "https://localhost:8080/",
          "height": 69
        },
        "id": "Xun6HhL38P3W",
        "outputId": "0c3a3ba1-b35f-4f65-faad-9a9c76156d9e"
      },
      "execution_count": 49,
      "outputs": [
        {
          "output_type": "display_data",
          "data": {
            "text/plain": [
              "previsao\n",
              " No Yes \n",
              "200 126 "
            ]
          },
          "metadata": {}
        }
      ]
    },
    {
      "cell_type": "markdown",
      "source": [
        "**Análise de Super Dispersão:**"
      ],
      "metadata": {
        "id": "HZfk5_Ei8c-d"
      }
    },
    {
      "cell_type": "code",
      "source": [
        "deviance(modeloReduzido) / df.residual(modeloReduzido)"
      ],
      "metadata": {
        "colab": {
          "base_uri": "https://localhost:8080/",
          "height": 34
        },
        "id": "5OiAzHxh8cbP",
        "outputId": "cfaf56dc-eee9-4ff9-9d28-beb8b359caba"
      },
      "execution_count": 50,
      "outputs": [
        {
          "output_type": "display_data",
          "data": {
            "text/html": [
              "0.918081915180144"
            ],
            "text/markdown": "0.918081915180144",
            "text/latex": "0.918081915180144",
            "text/plain": [
              "[1] 0.9180819"
            ]
          },
          "metadata": {}
        }
      ]
    },
    {
      "cell_type": "markdown",
      "source": [
        "*O valor próximo a 1 indica que a super dispersão não é um problema em nosso modelo de regressão logística.*"
      ],
      "metadata": {
        "id": "pJostOVK8m2m"
      }
    },
    {
      "cell_type": "markdown",
      "source": [
        "**Salvando os dados em formato CSV:**"
      ],
      "metadata": {
        "id": "aGCpGY0l8jly"
      }
    },
    {
      "cell_type": "code",
      "source": [
        "titanicTeste$Survived_Predict <- previsao\n",
        "\n",
        "titanicFinal <- data.frame(PassengerId = titanicTeste$PassengerId,\n",
        "                           Survived = titanicTeste$Survived_Predict)\n",
        "\n",
        "write.csv(titanicFinal, file = 'Trilha_6_Tarefa_Analise_Estatistica.csv')"
      ],
      "metadata": {
        "id": "1c5Md0cz8TLB"
      },
      "execution_count": 52,
      "outputs": []
    }
  ]
}